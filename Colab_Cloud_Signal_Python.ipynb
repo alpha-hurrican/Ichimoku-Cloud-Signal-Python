{
  "cells": [
    {
      "cell_type": "markdown",
      "metadata": {
        "id": "view-in-github",
        "colab_type": "text"
      },
      "source": [
        "<a href=\"https://colab.research.google.com/github/harryguiacorn/Ichimoku-Cloud-Signal-Python/blob/master/Colab_Cloud_Signal_Python.ipynb\" target=\"_parent\"><img src=\"https://colab.research.google.com/assets/colab-badge.svg\" alt=\"Open In Colab\"/></a>"
      ]
    },
    {
      "cell_type": "markdown",
      "source": [
        "# Clone source code and install packages"
      ],
      "metadata": {
        "id": "GZar2viBnp5R"
      },
      "id": "GZar2viBnp5R"
    },
    {
      "cell_type": "code",
      "execution_count": null,
      "metadata": {
        "id": "71021dd3"
      },
      "outputs": [],
      "source": [
        "!git clone https://github.com/harryguiacorn/Cloud-Signal-Python.git\n",
        "%cd Cloud-Signal-Python/\n",
        "!ls\n",
        "!pip install -r requirements.txt"
      ],
      "id": "71021dd3"
    },
    {
      "cell_type": "markdown",
      "metadata": {
        "id": "MEiZnjazhUgB"
      },
      "source": [
        "# Run Analysis from Yahoo"
      ],
      "id": "MEiZnjazhUgB"
    },
    {
      "cell_type": "code",
      "execution_count": null,
      "metadata": {
        "id": "7xJES08T_c9W"
      },
      "outputs": [],
      "source": [
        "!python main.py"
      ],
      "id": "7xJES08T_c9W"
    },
    {
      "cell_type": "markdown",
      "metadata": {
        "id": "GbHOWp8Dhctt"
      },
      "source": [
        "# Run Oanda Instruments"
      ],
      "id": "GbHOWp8Dhctt"
    },
    {
      "cell_type": "code",
      "execution_count": null,
      "metadata": {
        "id": "9442ko6ShFrg"
      },
      "outputs": [],
      "source": [
        "!python runFxOanda.py"
      ],
      "id": "9442ko6ShFrg"
    },
    {
      "cell_type": "code",
      "source": [
        "import pandas as pd\n",
        "\n",
        "# Read the CSV file\n",
        "df = pd.read_csv('/content/Cloud-Signal-Python/output/Oanda-sum-cloud-tkx-merged.csv')\n",
        "\n",
        "html_table = '''\n",
        "<!DOCTYPE html>\n",
        "<html lang=\"en\">\n",
        "<head>\n",
        "    <meta charset=\"UTF-8\">\n",
        "    <meta name=\"viewport\" content=\"width=device-width, initial-scale=1.0\">\n",
        "    <title>Bootstrap 5 Example</title>\n",
        "    <link rel=\"stylesheet\" href=\"https://cdnjs.cloudflare.com/ajax/libs/twitter-bootstrap/5.3.0/css/bootstrap.min.css\">\n",
        "    <link rel=\"stylesheet\" href=\"https://cdn.datatables.net/1.13.7/css/dataTables.bootstrap5.min.css\">\n",
        "\n",
        "    <script src=\"https://code.jquery.com/jquery-3.7.0.js\"></script>\n",
        "    <script src=\"https://cdn.datatables.net/1.13.7/js/jquery.dataTables.min.js\"></script>\n",
        "    <script src=\"https://cdn.datatables.net/1.13.7/js/dataTables.bootstrap5.min.js\"></script>\n",
        "\n",
        "    <style>\n",
        "      .highlight-positive {\n",
        "          background-color: #c6efce !important;\n",
        "      }\n",
        "      .highlight-negative {\n",
        "          background-color: #f8d7da !important;\n",
        "      }\n",
        "      .highlight-neutral {\n",
        "          background-color: #d3d3d3 !important;\n",
        "      }\n",
        "    </style>\n",
        "</head>\n",
        "<body>\n",
        "'''\n",
        "\n",
        "# Convert the CSV file to an HTML table\n",
        "html_table += df.to_html(index=False)\n",
        "\n",
        "# Add the DataTables plugin to the HTML table\n",
        "html_table = html_table.replace('<table','<table class=\"table table-striped table-bordered\" id=\"myTable\"')\n",
        "html_table += '''\n",
        "<script>\n",
        "$(document).ready(function() {\n",
        "    $('#myTable').DataTable();\n",
        "    $('td').each(function() {\n",
        "        var value = parseFloat($(this).text());\n",
        "        if (!isNaN(value)) {\n",
        "            if (value > 0) {\n",
        "                $(this).addClass('highlight-positive');\n",
        "            } else if (value < 0) {\n",
        "                $(this).addClass('highlight-negative');\n",
        "            } else {\n",
        "                $(this).addClass('highlight-neutral');\n",
        "            }\n",
        "        }\n",
        "    });\n",
        "});\n",
        "</script>\n",
        "</body>\n",
        "</html>\n",
        "'''\n",
        "\n",
        "print(html_table)\n",
        "\n",
        "with open('table.html', 'w') as f:\n",
        "    f.write(html_table)"
      ],
      "metadata": {
        "id": "njMygK6LhbfR"
      },
      "id": "njMygK6LhbfR",
      "execution_count": null,
      "outputs": []
    },
    {
      "cell_type": "code",
      "source": [
        "from IPython.display import HTML\n",
        "\n",
        "# Open the HTML file and read its contents\n",
        "with open('/content/Cloud-Signal-Python/table.html', 'r') as f:\n",
        "    html_content = f.read()\n",
        "\n",
        "# Display the HTML content in the Colab notebook\n",
        "HTML(html_content)\n"
      ],
      "metadata": {
        "id": "ZRgnoizOo7r-",
        "colab": {
          "base_uri": "https://localhost:8080/",
          "height": 690
        },
        "outputId": "3ade546d-8fa6-41ce-dd91-6c09a807524a"
      },
      "id": "ZRgnoizOo7r-",
      "execution_count": null,
      "outputs": [
        {
          "output_type": "execute_result",
          "data": {
            "text/plain": [
              "<IPython.core.display.HTML object>"
            ],
            "text/html": [
              "\n",
              "<!DOCTYPE html>\n",
              "<html lang=\"en\">\n",
              "<head>\n",
              "    <meta charset=\"UTF-8\">\n",
              "    <meta name=\"viewport\" content=\"width=device-width, initial-scale=1.0\">\n",
              "    <title>Bootstrap 5 Example</title>\n",
              "    <link rel=\"stylesheet\" href=\"https://cdnjs.cloudflare.com/ajax/libs/twitter-bootstrap/5.3.0/css/bootstrap.min.css\">\n",
              "    <link rel=\"stylesheet\" href=\"https://cdn.datatables.net/1.13.7/css/dataTables.bootstrap5.min.css\">\n",
              "\n",
              "    <script src=\"https://code.jquery.com/jquery-3.7.0.js\"></script>\n",
              "    <script src=\"https://cdn.datatables.net/1.13.7/js/jquery.dataTables.min.js\"></script>\n",
              "    <script src=\"https://cdn.datatables.net/1.13.7/js/dataTables.bootstrap5.min.js\"></script>\n",
              "\n",
              "    <style>\n",
              "      .highlight-positive {\n",
              "          background-color: #c6efce !important;\n",
              "      }\n",
              "      .highlight-negative {\n",
              "          background-color: #f8d7da !important;\n",
              "      }\n",
              "      .highlight-neutral {\n",
              "          background-color: #d3d3d3 !important;\n",
              "      }\n",
              "    </style>\n",
              "</head>\n",
              "<body>\n",
              "<table class=\"table table-striped table-bordered\" id=\"myTable\" border=\"1\" class=\"dataframe\">\n",
              "  <thead>\n",
              "    <tr style=\"text-align: right;\">\n",
              "      <th>Symbol</th>\n",
              "      <th>Name</th>\n",
              "      <th>1H Cloud Score</th>\n",
              "      <th>4H Cloud Score</th>\n",
              "      <th>1D Cloud Score</th>\n",
              "      <th>1W Cloud Score</th>\n",
              "      <th>Cloud Score Sum</th>\n",
              "      <th>1H TKx Score</th>\n",
              "      <th>4H TKx Score</th>\n",
              "      <th>1D TKx Score</th>\n",
              "      <th>1W TKx Score</th>\n",
              "      <th>TKx Score Sum</th>\n",
              "      <th>Total Score Sum</th>\n",
              "    </tr>\n",
              "  </thead>\n",
              "  <tbody>\n",
              "    <tr>\n",
              "      <td>US30_USD</td>\n",
              "      <td>US Wall St 30</td>\n",
              "      <td>76</td>\n",
              "      <td>128</td>\n",
              "      <td>15</td>\n",
              "      <td>5</td>\n",
              "      <td>224</td>\n",
              "      <td>39</td>\n",
              "      <td>86</td>\n",
              "      <td>17</td>\n",
              "      <td>-8</td>\n",
              "      <td>134</td>\n",
              "      <td>358</td>\n",
              "    </tr>\n",
              "    <tr>\n",
              "      <td>DE30_EUR</td>\n",
              "      <td>Germany 30</td>\n",
              "      <td>63</td>\n",
              "      <td>133</td>\n",
              "      <td>13</td>\n",
              "      <td>5</td>\n",
              "      <td>214</td>\n",
              "      <td>66</td>\n",
              "      <td>13</td>\n",
              "      <td>14</td>\n",
              "      <td>-9</td>\n",
              "      <td>84</td>\n",
              "      <td>298</td>\n",
              "    </tr>\n",
              "    <tr>\n",
              "      <td>GBP_USD</td>\n",
              "      <td>GBP/USD</td>\n",
              "      <td>6</td>\n",
              "      <td>82</td>\n",
              "      <td>11</td>\n",
              "      <td>3</td>\n",
              "      <td>102</td>\n",
              "      <td>12</td>\n",
              "      <td>-4</td>\n",
              "      <td>21</td>\n",
              "      <td>-11</td>\n",
              "      <td>18</td>\n",
              "      <td>120</td>\n",
              "    </tr>\n",
              "    <tr>\n",
              "      <td>NAS100_USD</td>\n",
              "      <td>US Nas 100</td>\n",
              "      <td>1</td>\n",
              "      <td>2</td>\n",
              "      <td>20</td>\n",
              "      <td>29</td>\n",
              "      <td>52</td>\n",
              "      <td>5</td>\n",
              "      <td>-5</td>\n",
              "      <td>18</td>\n",
              "      <td>41</td>\n",
              "      <td>59</td>\n",
              "      <td>111</td>\n",
              "    </tr>\n",
              "    <tr>\n",
              "      <td>SPX500_USD</td>\n",
              "      <td>US SPX 500</td>\n",
              "      <td>8</td>\n",
              "      <td>7</td>\n",
              "      <td>16</td>\n",
              "      <td>29</td>\n",
              "      <td>60</td>\n",
              "      <td>18</td>\n",
              "      <td>2</td>\n",
              "      <td>17</td>\n",
              "      <td>-6</td>\n",
              "      <td>31</td>\n",
              "      <td>91</td>\n",
              "    </tr>\n",
              "    <tr>\n",
              "      <td>UK100_GBP</td>\n",
              "      <td>UK 100</td>\n",
              "      <td>24</td>\n",
              "      <td>5</td>\n",
              "      <td>0</td>\n",
              "      <td>0</td>\n",
              "      <td>29</td>\n",
              "      <td>24</td>\n",
              "      <td>1</td>\n",
              "      <td>7</td>\n",
              "      <td>3</td>\n",
              "      <td>35</td>\n",
              "      <td>64</td>\n",
              "    </tr>\n",
              "    <tr>\n",
              "      <td>USD_JPY</td>\n",
              "      <td>USD/JPY</td>\n",
              "      <td>-6</td>\n",
              "      <td>-25</td>\n",
              "      <td>-1</td>\n",
              "      <td>24</td>\n",
              "      <td>-8</td>\n",
              "      <td>-7</td>\n",
              "      <td>-24</td>\n",
              "      <td>-6</td>\n",
              "      <td>28</td>\n",
              "      <td>-9</td>\n",
              "      <td>-17</td>\n",
              "    </tr>\n",
              "    <tr>\n",
              "      <td>EUR_USD</td>\n",
              "      <td>EUR/USD</td>\n",
              "      <td>-39</td>\n",
              "      <td>-3</td>\n",
              "      <td>14</td>\n",
              "      <td>3</td>\n",
              "      <td>-25</td>\n",
              "      <td>-55</td>\n",
              "      <td>-9</td>\n",
              "      <td>29</td>\n",
              "      <td>-11</td>\n",
              "      <td>-46</td>\n",
              "      <td>-71</td>\n",
              "    </tr>\n",
              "  </tbody>\n",
              "</table>\n",
              "<script>\n",
              "$(document).ready(function() {\n",
              "    $('#myTable').DataTable();\n",
              "    $('td').each(function() {\n",
              "        var value = parseFloat($(this).text());\n",
              "        if (!isNaN(value)) {\n",
              "            if (value > 0) {\n",
              "                $(this).addClass('highlight-positive');\n",
              "            } else if (value < 0) {\n",
              "                $(this).addClass('highlight-negative');\n",
              "            } else {\n",
              "                $(this).addClass('highlight-neutral');\n",
              "            }\n",
              "        }\n",
              "    });\n",
              "});\n",
              "</script>\n",
              "</body>\n",
              "</html>\n"
            ]
          },
          "metadata": {},
          "execution_count": 33
        }
      ]
    },
    {
      "cell_type": "markdown",
      "metadata": {
        "id": "WyyHf0DIKUE3"
      },
      "source": [
        "# Save to Google Drive"
      ],
      "id": "WyyHf0DIKUE3"
    },
    {
      "cell_type": "code",
      "execution_count": null,
      "metadata": {
        "colab": {
          "base_uri": "https://localhost:8080/"
        },
        "id": "PcMIzu6m8CD_",
        "outputId": "cb8e8559-fbdd-4921-cf3b-94b33d5638a8"
      },
      "outputs": [
        {
          "name": "stdout",
          "output_type": "stream",
          "text": [
            "Drive already mounted at /content/drive; to attempt to forcibly remount, call drive.mount(\"/content/drive\", force_remount=True).\n"
          ]
        }
      ],
      "source": [
        "from google.colab import drive\n",
        "drive.mount('/content/drive')"
      ],
      "id": "PcMIzu6m8CD_"
    },
    {
      "cell_type": "code",
      "execution_count": null,
      "metadata": {
        "colab": {
          "base_uri": "https://localhost:8080/"
        },
        "id": "pONdv6ZY8NDF",
        "outputId": "7eaf09fe-544e-474b-b713-d1bc1b62367a"
      },
      "outputs": [
        {
          "name": "stdout",
          "output_type": "stream",
          "text": [
            "/content/drive/MyDrive/Colab Notebooks\n"
          ]
        }
      ],
      "source": [
        "#path that contains folder you want to copy\n",
        "%cd /content/drive/MyDrive/Colab Notebooks\n",
        "%cp -r /content/Cloud-Signal-Python /content/drive/MyDrive/Colab\\ Notebooks/Colab-output"
      ],
      "id": "pONdv6ZY8NDF"
    },
    {
      "cell_type": "code",
      "execution_count": null,
      "metadata": {
        "colab": {
          "base_uri": "https://localhost:8080/"
        },
        "id": "uNK7uxVHRm-o",
        "outputId": "66a1900e-5c65-495f-d620-a7931b70e782"
      },
      "outputs": [
        {
          "name": "stdout",
          "output_type": "stream",
          "text": [
            "Collecting schedule\n",
            "  Downloading schedule-1.2.1-py2.py3-none-any.whl (11 kB)\n",
            "Installing collected packages: schedule\n",
            "Successfully installed schedule-1.2.1\n"
          ]
        }
      ],
      "source": [
        "!pip install schedule\n"
      ],
      "id": "uNK7uxVHRm-o"
    },
    {
      "cell_type": "code",
      "execution_count": null,
      "metadata": {
        "colab": {
          "base_uri": "https://localhost:8080/",
          "height": 279
        },
        "id": "MM1fK9_rQVAh",
        "outputId": "8e309f26-fdd8-4c6d-a625-594868ec305f"
      },
      "outputs": [
        {
          "name": "stdout",
          "output_type": "stream",
          "text": [
            "Executing script...\n",
            "Executing script...\n",
            "Executing script...\n",
            "Executing script...\n"
          ]
        },
        {
          "ename": "KeyboardInterrupt",
          "evalue": "ignored",
          "output_type": "error",
          "traceback": [
            "\u001b[0;31m---------------------------------------------------------------------------\u001b[0m",
            "\u001b[0;31mKeyboardInterrupt\u001b[0m                         Traceback (most recent call last)",
            "\u001b[0;32m<ipython-input-3-36749764c289>\u001b[0m in \u001b[0;36m<cell line: 11>\u001b[0;34m()\u001b[0m\n\u001b[1;32m     11\u001b[0m \u001b[0;32mwhile\u001b[0m \u001b[0;32mTrue\u001b[0m\u001b[0;34m:\u001b[0m\u001b[0;34m\u001b[0m\u001b[0;34m\u001b[0m\u001b[0m\n\u001b[1;32m     12\u001b[0m     \u001b[0mschedule\u001b[0m\u001b[0;34m.\u001b[0m\u001b[0mrun_pending\u001b[0m\u001b[0;34m(\u001b[0m\u001b[0;34m)\u001b[0m\u001b[0;34m\u001b[0m\u001b[0;34m\u001b[0m\u001b[0m\n\u001b[0;32m---> 13\u001b[0;31m     \u001b[0mtime\u001b[0m\u001b[0;34m.\u001b[0m\u001b[0msleep\u001b[0m\u001b[0;34m(\u001b[0m\u001b[0;36m1\u001b[0m\u001b[0;34m)\u001b[0m\u001b[0;34m\u001b[0m\u001b[0;34m\u001b[0m\u001b[0m\n\u001b[0m",
            "\u001b[0;31mKeyboardInterrupt\u001b[0m: "
          ]
        }
      ],
      "source": [
        "import schedule, time\n",
        "\n",
        "def job():\n",
        "    # Your script logic goes here\n",
        "    print(\"Executing script...\")\n",
        "\n",
        "\n",
        "# Schedule the job to run every 10 seconds\n",
        "schedule.every(10).seconds.do(job)\n",
        "\n",
        "while True:\n",
        "    schedule.run_pending()\n",
        "    time.sleep(1)\n"
      ],
      "id": "MM1fK9_rQVAh"
    }
  ],
  "metadata": {
    "colab": {
      "provenance": [],
      "include_colab_link": true
    },
    "kernelspec": {
      "display_name": "Python 3.10.5 ('.venv': venv)",
      "language": "python",
      "name": "python3"
    },
    "language_info": {
      "codemirror_mode": {
        "name": "ipython",
        "version": 3
      },
      "file_extension": ".py",
      "mimetype": "text/x-python",
      "name": "python",
      "nbconvert_exporter": "python",
      "pygments_lexer": "ipython3",
      "version": "3.10.5"
    },
    "vscode": {
      "interpreter": {
        "hash": "250197423a26854a2afaeac9ddef35e7b73a6cfeac4b3ab95eaa55c8bfad6f50"
      }
    }
  },
  "nbformat": 4,
  "nbformat_minor": 5
}