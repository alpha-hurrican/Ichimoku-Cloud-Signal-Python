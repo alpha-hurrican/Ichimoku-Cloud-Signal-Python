{
  "cells": [
    {
      "cell_type": "markdown",
      "metadata": {
        "colab_type": "text",
        "id": "view-in-github"
      },
      "source": [
        "<a href=\"https://colab.research.google.com/github/harryguiacorn/Cloud-Signal-Python/blob/master/Colab_Cloud_Signal_Python.ipynb\" target=\"_parent\"><img src=\"https://colab.research.google.com/assets/colab-badge.svg\" alt=\"Open In Colab\"/></a>"
      ]
    },
    {
      "cell_type": "code",
      "execution_count": null,
      "id": "71021dd3",
      "metadata": {
        "colab": {
          "base_uri": "https://localhost:8080/"
        },
        "id": "71021dd3",
        "outputId": "081f661a-e46d-43f6-a516-90a60220a4cb"
      },
      "outputs": [],
      "source": [
        "!git clone https://github.com/harryguiacorn/Cloud-Signal-Python.git"
      ]
    },
    {
      "cell_type": "code",
      "execution_count": null,
      "id": "OhJ1uvPq7G0Z",
      "metadata": {
        "colab": {
          "base_uri": "https://localhost:8080/"
        },
        "id": "OhJ1uvPq7G0Z",
        "outputId": "c4f28e57-9063-486c-cea2-3720421ef0e5"
      },
      "outputs": [],
      "source": [
        "%cd Cloud-Signal-Python/\n",
        "!ls"
      ]
    },
    {
      "cell_type": "code",
      "execution_count": null,
      "id": "nN7Nc02C-YgS",
      "metadata": {
        "colab": {
          "base_uri": "https://localhost:8080/"
        },
        "id": "nN7Nc02C-YgS",
        "outputId": "96bae2a1-b1f7-417d-c6a7-5a78c2b5714c"
      },
      "outputs": [],
      "source": [
        "!pip install -r requirements.txt"
      ]
    },
    {
      "cell_type": "code",
      "execution_count": null,
      "id": "7xJES08T_c9W",
      "metadata": {
        "colab": {
          "base_uri": "https://localhost:8080/"
        },
        "id": "7xJES08T_c9W",
        "outputId": "a4118f4b-4a9c-4d24-e6d0-94976d3955a7"
      },
      "outputs": [],
      "source": [
        "!python main.py"
      ]
    }
  ],
  "metadata": {
    "colab": {
      "include_colab_link": true,
      "provenance": []
    },
    "kernelspec": {
      "display_name": "Python 3.10.5 ('.venv': venv)",
      "language": "python",
      "name": "python3"
    },
    "language_info": {
      "codemirror_mode": {
        "name": "ipython",
        "version": 3
      },
      "file_extension": ".py",
      "mimetype": "text/x-python",
      "name": "python",
      "nbconvert_exporter": "python",
      "pygments_lexer": "ipython3",
      "version": "3.10.5"
    },
    "vscode": {
      "interpreter": {
        "hash": "250197423a26854a2afaeac9ddef35e7b73a6cfeac4b3ab95eaa55c8bfad6f50"
      }
    }
  },
  "nbformat": 4,
  "nbformat_minor": 5
}
