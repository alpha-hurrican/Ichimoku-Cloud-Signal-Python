{
 "cells": [
  {
   "cell_type": "code",
   "execution_count": 1,
   "metadata": {},
   "outputs": [
    {
     "name": "stdout",
     "output_type": "stream",
     "text": [
      "Collecting csvtotable\n",
      "  Downloading csvtotable-2.1.1-py2.py3-none-any.whl (91 kB)\n",
      "     ---------------------------------------- 91.5/91.5 KB ? eta 0:00:00\n",
      "Requirement already satisfied: six>=1.10.0 in c:\\users\\fxaco\\documents\\github\\cloud-signal-python\\.venv\\lib\\site-packages (from csvtotable) (1.16.0)\n",
      "Collecting unicodecsv>=0.14.1\n",
      "  Downloading unicodecsv-0.14.1.tar.gz (10 kB)\n",
      "  Preparing metadata (setup.py): started\n",
      "  Preparing metadata (setup.py): finished with status 'done'\n",
      "Requirement already satisfied: click>=6.7 in c:\\users\\fxaco\\documents\\github\\cloud-signal-python\\.venv\\lib\\site-packages (from csvtotable) (8.1.3)\n",
      "Requirement already satisfied: jinja2>=2.9.6 in c:\\users\\fxaco\\documents\\github\\cloud-signal-python\\.venv\\lib\\site-packages (from csvtotable) (3.1.2)\n",
      "Requirement already satisfied: colorama in c:\\users\\fxaco\\documents\\github\\cloud-signal-python\\.venv\\lib\\site-packages (from click>=6.7->csvtotable) (0.4.6)\n",
      "Requirement already satisfied: MarkupSafe>=2.0 in c:\\users\\fxaco\\documents\\github\\cloud-signal-python\\.venv\\lib\\site-packages (from jinja2>=2.9.6->csvtotable) (2.1.2)\n",
      "Using legacy 'setup.py install' for unicodecsv, since package 'wheel' is not installed.\n",
      "Installing collected packages: unicodecsv, csvtotable\n",
      "  Running setup.py install for unicodecsv: started\n",
      "  Running setup.py install for unicodecsv: finished with status 'done'\n",
      "Successfully installed csvtotable-2.1.1 unicodecsv-0.14.1\n"
     ]
    },
    {
     "name": "stderr",
     "output_type": "stream",
     "text": [
      "WARNING: You are using pip version 22.0.4; however, version 23.3.1 is available.\n",
      "You should consider upgrading via the 'C:\\Users\\fxaco\\Documents\\GitHub\\Cloud-Signal-Python\\.venv\\Scripts\\python.exe -m pip install --upgrade pip' command.\n"
     ]
    }
   ],
   "source": [
    "!pip install --upgrade csvtotable\n"
   ]
  },
  {
   "cell_type": "code",
   "execution_count": 3,
   "metadata": {},
   "outputs": [
    {
     "name": "stdout",
     "output_type": "stream",
     "text": [
      "Usage: csvtotable [OPTIONS] INPUT_FILE [OUTPUT_FILE]\n",
      "\n",
      "  CSVtoTable commandline utility.\n",
      "\n",
      "Options:\n",
      "  -c, --caption TEXT              Table caption\n",
      "  -d, --delimiter TEXT            CSV delimiter\n",
      "  -q, --quotechar TEXT            String used to quote fields containing\n",
      "                                  special characters\n",
      "  -dl, --display-length INTEGER   Number of rows to show by default. Defaults\n",
      "                                  to -1 (show all rows)\n",
      "  -o, --overwrite                 Overwrite the output file if exisits.\n",
      "  -s, --serve                     Open output html in browser instead of\n",
      "                                  writing to file.\n",
      "  -h, --height TEXT               Table height in px or in %.\n",
      "  -p, --pagination                Enable/disable table pagination.\n",
      "  -vs, --virtual-scroll INTEGER   Number of rows after which virtual scroll is\n",
      "                                  enabled.Set it to -1 to disable and 0 to\n",
      "                                  always enable.\n",
      "  -nh, --no-header                Disable displaying first row as headers.\n",
      "  -e, --export                    Enable filtered rows export options.\n",
      "  -eo, --export-options [copy|csv|json|print]\n",
      "                                  Enable specific export options. By default\n",
      "                                  shows all. For multiple options use -eo flag\n",
      "                                  multiple times. For ex. -eo json -eo csv\n",
      "  --help                          Show this message and exit.\n"
     ]
    }
   ],
   "source": [
    "!csvtotable --help"
   ]
  },
  {
   "cell_type": "code",
   "execution_count": 6,
   "metadata": {},
   "outputs": [
    {
     "name": "stdout",
     "output_type": "stream",
     "text": [
      "File converted successfully: .././output/Nasdaq100-cloud-merged.html\n"
     ]
    }
   ],
   "source": [
    "!csvtotable \".././output/Nasdaq100-cloud-merged.csv\" \".././output/Nasdaq100-cloud-merged.html\""
   ]
  }
 ],
 "metadata": {
  "kernelspec": {
   "display_name": ".venv",
   "language": "python",
   "name": "python3"
  },
  "language_info": {
   "codemirror_mode": {
    "name": "ipython",
    "version": 3
   },
   "file_extension": ".py",
   "mimetype": "text/x-python",
   "name": "python",
   "nbconvert_exporter": "python",
   "pygments_lexer": "ipython3",
   "version": "3.10.5"
  }
 },
 "nbformat": 4,
 "nbformat_minor": 2
}
