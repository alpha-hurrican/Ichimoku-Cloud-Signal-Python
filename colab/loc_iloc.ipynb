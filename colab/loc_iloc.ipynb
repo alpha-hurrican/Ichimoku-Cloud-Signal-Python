{
 "cells": [
  {
   "cell_type": "code",
   "execution_count": 2,
   "metadata": {},
   "outputs": [
    {
     "name": "stdout",
     "output_type": "stream",
     "text": [
      "c:\\Users\\fxaco\\Documents\\GitHub\\Cloud-Signal-Python\\colab\n"
     ]
    }
   ],
   "source": [
    "import os\n",
    "\n",
    "# Get the current directory\n",
    "current_dir = os.getcwd()\n",
    "print(current_dir)\n",
    "print(os.listdir(\"../data/dowjones30/d/\"))\n"
   ]
  },
  {
   "cell_type": "code",
   "execution_count": 8,
   "metadata": {},
   "outputs": [
    {
     "name": "stdout",
     "output_type": "stream",
     "text": [
      "           Date        Open        High         Low       Close   Adj Close  \\\n",
      "0    2023-05-11  173.850006  174.589996  172.169998  173.750000  173.276016   \n",
      "1    2023-05-12  173.619995  174.059998  171.000000  172.570007  172.337280   \n",
      "2    2023-05-15  173.160004  173.210007  171.470001  172.070007  171.837967   \n",
      "3    2023-05-16  171.990005  173.139999  171.800003  172.070007  171.837967   \n",
      "4    2023-05-17  171.710007  172.929993  170.419998  172.690002  172.457123   \n",
      "..          ...         ...         ...         ...         ...         ...   \n",
      "123  2023-11-06  176.380005  179.429993  176.210007  179.229996  179.229996   \n",
      "124  2023-11-07  179.179993  182.440002  178.970001  181.820007  181.820007   \n",
      "125  2023-11-08  182.350006  183.449997  181.589996  182.889999  182.889999   \n",
      "126  2023-11-09  182.960007  184.119995  181.809998  182.410004  182.410004   \n",
      "127  2023-11-10  183.970001  186.565002  183.529999  186.399994  186.399994   \n",
      "\n",
      "       Volume  \n",
      "0    49514700  \n",
      "1    45497800  \n",
      "2    37266700  \n",
      "3    42110300  \n",
      "4    57951600  \n",
      "..        ...  \n",
      "123  63841300  \n",
      "124  70530000  \n",
      "125  49340300  \n",
      "126  53763500  \n",
      "127  61896812  \n",
      "\n",
      "[128 rows x 7 columns]\n",
      "173.75\n",
      "172.57000732421875\n"
     ]
    }
   ],
   "source": [
    "import pandas as pd\n",
    "import os\n",
    "df = pd.read_csv(\"../data/dowjones30/d/AAPL.csv\")\n",
    "\n",
    "print(df)\n",
    "\n",
    "# print(df.iloc[0,0])\n",
    "print(df.loc[0,'Close'])\n",
    "print(df.loc[1,'Close'])\n",
    "\n"
   ]
  },
  {
   "cell_type": "code",
   "execution_count": 5,
   "metadata": {},
   "outputs": [],
   "source": [
    "import pandas as pddf\n",
    "list = [0,1,2,3,4,5]\n",
    "df2 = list\n",
    "\n"
   ]
  }
 ],
 "metadata": {
  "kernelspec": {
   "display_name": ".venv",
   "language": "python",
   "name": "python3"
  },
  "language_info": {
   "codemirror_mode": {
    "name": "ipython",
    "version": 3
   },
   "file_extension": ".py",
   "mimetype": "text/x-python",
   "name": "python",
   "nbconvert_exporter": "python",
   "pygments_lexer": "ipython3",
   "version": "3.10.5"
  }
 },
 "nbformat": 4,
 "nbformat_minor": 2
}
