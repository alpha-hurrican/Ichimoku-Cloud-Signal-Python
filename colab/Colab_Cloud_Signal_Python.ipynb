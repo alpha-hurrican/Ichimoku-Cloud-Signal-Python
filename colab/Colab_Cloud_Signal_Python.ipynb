{
  "cells": [
    {
      "cell_type": "markdown",
      "metadata": {
        "id": "view-in-github",
        "colab_type": "text"
      },
      "source": [
        "<a href=\"https://colab.research.google.com/github/harryguiacorn/Cloud-Signal-Python/blob/master/colab/Colab_Cloud_Signal_Python.ipynb\" target=\"_parent\"><img src=\"https://colab.research.google.com/assets/colab-badge.svg\" alt=\"Open In Colab\"/></a>"
      ]
    },
    {
      "cell_type": "code",
      "execution_count": null,
      "id": "71021dd3",
      "metadata": {
        "id": "71021dd3"
      },
      "outputs": [],
      "source": [
        "!git clone https://github.com/harryguiacorn/Cloud-Signal-Python.git"
      ]
    },
    {
      "cell_type": "code",
      "execution_count": null,
      "id": "OhJ1uvPq7G0Z",
      "metadata": {
        "id": "OhJ1uvPq7G0Z"
      },
      "outputs": [],
      "source": [
        "%cd Cloud-Signal-Python/\n",
        "!ls"
      ]
    },
    {
      "cell_type": "code",
      "execution_count": null,
      "id": "nN7Nc02C-YgS",
      "metadata": {
        "id": "nN7Nc02C-YgS"
      },
      "outputs": [],
      "source": [
        "!pip install -r requirements.txt"
      ]
    },
    {
      "cell_type": "code",
      "execution_count": null,
      "id": "7xJES08T_c9W",
      "metadata": {
        "id": "7xJES08T_c9W"
      },
      "outputs": [],
      "source": [
        "!python main.py"
      ]
    }
  ],
  "metadata": {
    "colab": {
      "provenance": [],
      "include_colab_link": true
    },
    "kernelspec": {
      "display_name": "Python 3.10.5 ('.venv': venv)",
      "language": "python",
      "name": "python3"
    },
    "language_info": {
      "codemirror_mode": {
        "name": "ipython",
        "version": 3
      },
      "file_extension": ".py",
      "mimetype": "text/x-python",
      "name": "python",
      "nbconvert_exporter": "python",
      "pygments_lexer": "ipython3",
      "version": "3.10.5"
    },
    "vscode": {
      "interpreter": {
        "hash": "250197423a26854a2afaeac9ddef35e7b73a6cfeac4b3ab95eaa55c8bfad6f50"
      }
    }
  },
  "nbformat": 4,
  "nbformat_minor": 5
}